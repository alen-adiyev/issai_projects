{
 "cells": [
  {
   "cell_type": "code",
   "execution_count": 1,
   "metadata": {},
   "outputs": [
    {
     "name": "stderr",
     "output_type": "stream",
     "text": [
      "/opt/anaconda3/lib/python3.7/site-packages/pydub/utils.py:165: RuntimeWarning: Couldn't find ffmpeg or avconv - defaulting to ffmpeg, but may not work\n",
      "  warn(\"Couldn't find ffmpeg or avconv - defaulting to ffmpeg, but may not work\", RuntimeWarning)\n"
     ]
    }
   ],
   "source": [
    "from pydub import AudioSegment"
   ]
  },
  {
   "cell_type": "code",
   "execution_count": 17,
   "metadata": {},
   "outputs": [],
   "source": [
    "file1 = open('log.txt', 'r')"
   ]
  },
  {
   "cell_type": "code",
   "execution_count": 18,
   "metadata": {},
   "outputs": [],
   "source": [
    "time = file1.readlines()"
   ]
  },
  {
   "cell_type": "code",
   "execution_count": 40,
   "metadata": {},
   "outputs": [],
   "source": [
    "list_start = []\n",
    "list_end = []"
   ]
  },
  {
   "cell_type": "code",
   "execution_count": 42,
   "metadata": {},
   "outputs": [],
   "source": [
    "for i in range(0, int(len(time)/2)):\n",
    "    list_start.append(float(time[2*i][:-1]))\n",
    "    list_end.append(float(time[2*i+1][:-1]))"
   ]
  },
  {
   "cell_type": "code",
   "execution_count": 47,
   "metadata": {},
   "outputs": [],
   "source": [
    "list_final_start = []\n",
    "list_final_end = []"
   ]
  },
  {
   "cell_type": "code",
   "execution_count": null,
   "metadata": {},
   "outputs": [],
   "source": [
    "def find_end(list_end, list_start):\n",
    "    "
   ]
  },
  {
   "cell_type": "code",
   "execution_count": 48,
   "metadata": {},
   "outputs": [],
   "source": [
    "i = 0\n",
    "while i < int(len(time)/2):\n",
    "    if list_end[i]-list_start[i] < 3:\n",
    "        for j in range(i+1, int(len(time)/2)):\n",
    "            if list_end[j]-list_start[i] > 3:\n",
    "                list_final_start.append(list_start[i])\n",
    "                list_final_end.append(list_end[j])\n",
    "                i = j+1\n",
    "                break\n",
    "            else:\n",
    "                if j == int(len(time)/2)-1:\n",
    "                    list_final_start.append(list_start[i])\n",
    "                    list_final_end.append(list_end[j])\n",
    "                    i = j+1\n",
    "                else:\n",
    "                    continue\n",
    "    else:\n",
    "        list_final_start.append(list_start[i])\n",
    "        list_final_end.append(list_end[i])\n",
    "        i = i+1\n",
    "            "
   ]
  },
  {
   "cell_type": "code",
   "execution_count": 55,
   "metadata": {},
   "outputs": [
    {
     "name": "stdout",
     "output_type": "stream",
     "text": [
      "0.16253968253968254\n",
      "3.4713832199546486\n"
     ]
    }
   ],
   "source": [
    "print(list_final_start[0])\n",
    "print(list_final_end[0])"
   ]
  },
  {
   "cell_type": "code",
   "execution_count": 52,
   "metadata": {},
   "outputs": [
    {
     "data": {
      "text/plain": [
       "511"
      ]
     },
     "execution_count": 52,
     "metadata": {},
     "output_type": "execute_result"
    }
   ],
   "source": [
    "len(list_final_end)"
   ]
  },
  {
   "cell_type": "code",
   "execution_count": 57,
   "metadata": {},
   "outputs": [],
   "source": [
    "for i in range (0, 511):\n",
    "    if list_final_end[i] - list_final_start[i] < 3:\n",
    "        print(i)\n",
    "    elif list_final_end[i] - list_final_start[i] > 10:\n",
    "        print(i)\n",
    "    else:\n",
    "        continue"
   ]
  },
  {
   "cell_type": "code",
   "execution_count": 60,
   "metadata": {},
   "outputs": [],
   "source": [
    "audio = AudioSegment.from_wav('interview_2.wav') \n",
    "chunk_1 = audio[list_final_start[0]*1000:list_final_end[0]*1000] # get the first second of an mp3 "
   ]
  },
  {
   "cell_type": "code",
   "execution_count": 69,
   "metadata": {},
   "outputs": [
    {
     "data": {
      "text/plain": [
       "<_io.BufferedRandom name='alen_audio'>"
      ]
     },
     "execution_count": 69,
     "metadata": {},
     "output_type": "execute_result"
    }
   ],
   "source": [
    "chunk_1.export(\"alen_audio\",format='wav')"
   ]
  },
  {
   "cell_type": "code",
   "execution_count": 71,
   "metadata": {},
   "outputs": [],
   "source": [
    "for i in range(len(list_final_start)):\n",
    "    chunk = audio[list_final_start[i]*1000:list_final_end[i]*1000]\n",
    "    chunk.export(\"chunk_%i.wav\" % (i+1),format='wav')"
   ]
  }
 ],
 "metadata": {
  "kernelspec": {
   "display_name": "Python 3",
   "language": "python",
   "name": "python3"
  },
  "language_info": {
   "codemirror_mode": {
    "name": "ipython",
    "version": 3
   },
   "file_extension": ".py",
   "mimetype": "text/x-python",
   "name": "python",
   "nbconvert_exporter": "python",
   "pygments_lexer": "ipython3",
   "version": "3.7.4"
  }
 },
 "nbformat": 4,
 "nbformat_minor": 4
}
